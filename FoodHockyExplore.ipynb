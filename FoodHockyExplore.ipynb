{
  "cells": [
    {
      "cell_type": "markdown",
      "metadata": {
        "id": "view-in-github",
        "colab_type": "text"
      },
      "source": [
        "<a href=\"https://colab.research.google.com/github/hockyy/food-101-mlcv/blob/main/FoodHockyExplore.ipynb\" target=\"_parent\"><img src=\"https://colab.research.google.com/assets/colab-badge.svg\" alt=\"Open In Colab\"/></a>"
      ]
    },
    {
      "cell_type": "code",
      "execution_count": 1,
      "metadata": {
        "id": "A6whlUP4QV0h"
      },
      "outputs": [],
      "source": [
        "from google.colab import drive\n",
        "\n",
        "def import_from_google_drive():\n",
        "  drive.mount('/content/drive')"
      ]
    },
    {
      "cell_type": "code",
      "execution_count": 19,
      "metadata": {
        "id": "CNbf_KIeVDlf"
      },
      "outputs": [],
      "source": [
        "import glob\n",
        "import cv2\n",
        "from matplotlib import pyplot as plt\n",
        "import numpy as np\n",
        "import tensorflow as tf\n",
        "from tensorflow.keras.preprocessing.image import ImageDataGenerator\n",
        "import os\n",
        "import shutil\n",
        "\n",
        "def makedir(file_path):\n",
        "    directory = os.path.dirname(file_path)\n",
        "    if not os.path.exists(directory):\n",
        "        os.makedirs(directory)\n",
        "\n",
        "def organize_data():\n",
        "  food_prefix = \"/content/mlcv/food-101\"\n",
        "  food_organized_prefix = \"/content/mlcv/food-101-ok\"\n",
        "  split_count = food_prefix.count('/')\n",
        "  food_path = f\"{food_prefix}/*\"\n",
        "  food_directories = glob.glob(food_path)\n",
        "  food_directories = [dir for dir in food_directories if (\"test\" not in dir) and (\"validate\" not in dir) and (\"train\" not in dir)]\n",
        "  classes = []\n",
        "  classes_map = dict()\n",
        "  for food_directory in food_directories:\n",
        "    food_name = food_directory.split('/')[split_count + 1]\n",
        "    # Map each food name to each index\n",
        "    current_label = len(classes)\n",
        "    classes_map[food_name] = current_label\n",
        "    classes.append(food_name)\n",
        "    print(f\"Organizing {food_directory}\")\n",
        "    filenames = glob.glob(f\"{food_directory}/*.jpg\")\n",
        "    train, validate, test = np.split(filenames, [int(len(filenames)*0.8), int(len(filenames)*0.9)])\n",
        "    print(food_name)\n",
        "    os.makedirs(f\"{food_organized_prefix}/train/{food_name}\",exist_ok=True)\n",
        "    os.makedirs(f\"{food_organized_prefix}/validate/{food_name}\",exist_ok=True)\n",
        "    os.makedirs(f\"{food_organized_prefix}/test/{food_name}\",exist_ok=True)\n",
        "    for food_file in train:\n",
        "      food_image_name = food_file.split(\"/\",split_count + 1)\n",
        "      try:\n",
        "        shutil.move(food_file, f\"{food_organized_prefix}/train/{food_image_name[-1]}\")\n",
        "      except Exception as e:\n",
        "        print(e)\n",
        "    for food_file in validate:\n",
        "      food_image_name = food_file.split(\"/\",split_count + 1)\n",
        "      try:\n",
        "        shutil.move(food_file, f\"{food_organized_prefix}/validate/{food_image_name[-1]}\")\n",
        "      except Exception as e:\n",
        "        print(e)\n",
        "    for food_file in test:\n",
        "      food_image_name = food_file.split(\"/\",split_count + 1)\n",
        "      try:\n",
        "        shutil.move(food_file, f\"{food_organized_prefix}/test/{food_image_name[-1]}\")\n",
        "      except Exception as e:\n",
        "        print(e)\n",
        "\n",
        "  return classes, classes_map"
      ]
    },
    {
      "cell_type": "code",
      "source": [
        "def create_image_generator(image_size):\n",
        "  food_organized_prefix = \"/content/mlcv/food-101-ok\"\n",
        "  train_path = f\"{food_organized_prefix}/train\"\n",
        "  validate_path = f\"{food_organized_prefix}/validate\"\n",
        "  test_path = f\"{food_organized_prefix}/test\"\n",
        "  train_datagen = ImageDataGenerator(rescale=1./255)\n",
        "  test_datagen = ImageDataGenerator(rescale=1./255)\n",
        "  validate_datagen = ImageDataGenerator(rescale=1./255)\n",
        "  image_shape_target = (image_size,image_size)\n",
        "  train_generator = train_datagen.flow_from_directory(\n",
        "          train_path,\n",
        "          target_size=image_shape_target,\n",
        "          color_mode=\"rgb\",\n",
        "          class_mode=\"categorical\",\n",
        "          shuffle=False,\n",
        "          batch_size=32)\n",
        "  test_generator = test_datagen.flow_from_directory(\n",
        "          test_path,\n",
        "          target_size=image_shape_target,\n",
        "          color_mode=\"rgb\",\n",
        "          class_mode=\"categorical\",\n",
        "          shuffle=False,\n",
        "          batch_size=1)\n",
        "  validate_generator = validate_datagen.flow_from_directory(\n",
        "          validate_path,\n",
        "          target_size=image_shape_target,\n",
        "          color_mode=\"rgb\",\n",
        "          class_mode=\"categorical\",\n",
        "          shuffle=False,\n",
        "          batch_size=1)\n",
        "  return train_generator, validate_generator, test_generator"
      ],
      "metadata": {
        "id": "9bwcEXMBd-q_"
      },
      "execution_count": 18,
      "outputs": []
    },
    {
      "cell_type": "code",
      "source": [
        "def load_model_and_checkpoint(model_name):\n",
        "  checkpoint_path = f\"{model_name}/cp.ckpt\"\n",
        "  try:\n",
        "    model = tf.keras.models.load_model(model_name)\n",
        "    model.load_weights(checkpoint_path)\n",
        "    return model\n",
        "  except:\n",
        "    return None\n",
        "\n",
        "def train_or_load_model(model, generator, model_name, epochs=10):\n",
        "  checkpoint_path = f\"{model_name}/cp.ckpt\"\n",
        "  loaded_model = load_model_and_checkpoint(model_name)\n",
        "  if(loaded_model is not None):\n",
        "    model = loaded_model\n",
        "  else:\n",
        "    model.save(model_name)\n",
        "  # Create a callback that saves the model's weights\n",
        "  cp_callback = tf.keras.callbacks.ModelCheckpoint(filepath=checkpoint_path,\n",
        "                                                 save_weights_only=True,\n",
        "                                                 verbose=1)\n",
        "  model.fit(train_gen, epochs = epochs,callbacks=[cp_callback])\n",
        "  return model\n",
        "\n",
        "def plot_metric(history, metric):\n",
        "    train_metrics = history.history[metric]\n",
        "    val_metrics = history.history['val_'+metric]\n",
        "    epochs = range(1, len(train_metrics) + 1)\n",
        "    plt.plot(epochs, train_metrics)\n",
        "    plt.plot(epochs, val_metrics)\n",
        "    plt.title('Training and validation '+ metric)\n",
        "    plt.xlabel(\"Epochs\")\n",
        "    plt.ylabel(metric)\n",
        "    plt.legend([\"train_\"+metric, 'val_'+metric])\n",
        "    plt.show()\n",
        "\n",
        "from tensorflow.keras.callbacks import EarlyStopping\n",
        "\n",
        "def train_or_load_model_early_stopping(model, generator, validation_generator, model_name, epochs=10):\n",
        "  # assert(model_name.endswith(\".h5\"))\n",
        "  checkpoint_path = f\"{model_name}/cp.ckpt\"\n",
        "  loaded_model = load_model_and_checkpoint(model_name)\n",
        "  if(loaded_model is not None):\n",
        "    model = loaded_model\n",
        "  else:\n",
        "    model.save(f\"{model_name}\")\n",
        "  # Create a callback that saves the model's weights\n",
        "  cp_callback = tf.keras.callbacks.ModelCheckpoint(filepath=checkpoint_path,\n",
        "                                                 save_weights_only=True,\n",
        "                                                 verbose=1)\n",
        "  es_callback = EarlyStopping(monitor='val_loss', mode='min', verbose=1, patience=50)\n",
        "  history = model.fit(train_gen, epochs = epochs,callbacks=[cp_callback, es_callback], validation_data=validation_generator)\n",
        "  plot_metric(history, \"loss\")\n",
        "  return model\n",
        "\n"
      ],
      "metadata": {
        "id": "6My1aIFSzbaF"
      },
      "execution_count": 43,
      "outputs": []
    },
    {
      "cell_type": "code",
      "source": [
        "def save_model_to_drive(model_name):\n",
        "  try:\n",
        "    shutil.rmtree(f\"/content/drive/MyDrive/mlcv/{model_name}\")\n",
        "  except:\n",
        "    pass\n",
        "  shutil.copytree(f\"/content/{model_name}\", f\"/content/drive/MyDrive/mlcv/{model_name}\")"
      ],
      "metadata": {
        "id": "n9lU_DPLhw0V"
      },
      "execution_count": 7,
      "outputs": []
    },
    {
      "cell_type": "code",
      "source": [
        "from sklearn.metrics._plot.confusion_matrix import ConfusionMatrixDisplay\n",
        "from sklearn.metrics import confusion_matrix, classification_report\n",
        "import numpy as np\n",
        "\n",
        "def predict_and_assess_model(model, test_generator):\n",
        "  result = model.predict(test_generator)\n",
        "  # Gives each class a probability, prediction is the max index\n",
        "  y_pred_classes = [np.argmax(element) for element in result]\n",
        "  y_test = test_generator.classes\n",
        "  # print(test_generator.classes)\n",
        "  print(\"Classification Report: \\n\", classification_report(y_test, y_pred_classes))\n",
        "  plt.figure(figsize=(15,15))\n",
        "  ax = plt.subplot(1,1,1)\n",
        "  cm = confusion_matrix(y_test, y_pred_classes)\n",
        "  disp = ConfusionMatrixDisplay(cm, display_labels=classes_food_101)\n",
        "  disp.plot(ax=ax)\n",
        "  plt.show()\n"
      ],
      "metadata": {
        "id": "x4edRukujeIE"
      },
      "execution_count": 8,
      "outputs": []
    },
    {
      "cell_type": "code",
      "source": [
        "import_from_google_drive()\n",
        "\n",
        "!cp -r \"/content/drive/MyDrive/mlcv/\" \"/content/\""
      ],
      "metadata": {
        "colab": {
          "base_uri": "https://localhost:8080/"
        },
        "id": "AtH4gNiFzykt",
        "outputId": "31b008fe-9d8c-42e1-a7da-ee88895bac82"
      },
      "execution_count": 22,
      "outputs": [
        {
          "output_type": "stream",
          "name": "stdout",
          "text": [
            "Drive already mounted at /content/drive; to attempt to forcibly remount, call drive.mount(\"/content/drive\", force_remount=True).\n"
          ]
        }
      ]
    },
    {
      "cell_type": "code",
      "source": [
        "classes_food_101, classes_map_food_101 = organize_data()"
      ],
      "metadata": {
        "colab": {
          "base_uri": "https://localhost:8080/"
        },
        "id": "cgGQ-IUtd1On",
        "outputId": "c96ded3e-c62b-425e-e733-3619f5c3a6b1"
      },
      "execution_count": 23,
      "outputs": [
        {
          "output_type": "stream",
          "name": "stdout",
          "text": [
            "Organizing /content/mlcv/food-101/takoyaki\n",
            "takoyaki\n",
            "Organizing /content/mlcv/food-101/garlic_bread\n",
            "garlic_bread\n",
            "Organizing /content/mlcv/food-101/gnocchi\n",
            "gnocchi\n",
            "Organizing /content/mlcv/food-101/donuts\n",
            "donuts\n",
            "Organizing /content/mlcv/food-101/bread_pudding\n",
            "bread_pudding\n",
            "Organizing /content/mlcv/food-101/samosa\n",
            "samosa\n",
            "Organizing /content/mlcv/food-101/sashimi\n",
            "sashimi\n",
            "Organizing /content/mlcv/food-101/chicken_curry\n",
            "chicken_curry\n",
            "Organizing /content/mlcv/food-101/spaghetti_carbonara\n",
            "spaghetti_carbonara\n",
            "Organizing /content/mlcv/food-101/seaweed_salad\n",
            "seaweed_salad\n"
          ]
        }
      ]
    },
    {
      "cell_type": "code",
      "source": [
        "# Delete organized folders\n",
        "!rm -rf \"/content/mlcv/food-101\""
      ],
      "metadata": {
        "id": "1ETrkSjqy5g_"
      },
      "execution_count": null,
      "outputs": []
    },
    {
      "cell_type": "code",
      "source": [
        "import tensorflow as tf\n",
        "from tensorflow import keras\n",
        "from tensorflow.keras import layers, Sequential\n",
        "\n",
        "def LeNet():\n",
        "  model = Sequential([\n",
        "    # CNN Layer\n",
        "    layers.Conv2D(filters=6, kernel_size=(3, 3), activation='relu', input_shape=(32,32,3)),\n",
        "    layers.AveragePooling2D(),\n",
        "    layers.Conv2D(filters=16, kernel_size=(3, 3), activation='relu'),\n",
        "    layers.AveragePooling2D(),\n",
        "    layers.Flatten(),\n",
        "\n",
        "    # Dense Layer\n",
        "    layers.Dense(units=120, activation='relu'),\n",
        "    layers.Dense(units=84, activation='relu'),\n",
        "    layers.Dense(units=10, activation = 'softmax'),\n",
        "  ])\n",
        "  return model\n"
      ],
      "metadata": {
        "id": "ZPOdHiVFCf9B"
      },
      "execution_count": 33,
      "outputs": []
    },
    {
      "cell_type": "code",
      "source": [
        "!rm -rf \"/content/lenet\""
      ],
      "metadata": {
        "id": "MhNwPb6lzCdf"
      },
      "execution_count": 49,
      "outputs": []
    },
    {
      "cell_type": "code",
      "source": [
        "train_gen, test_gen, validate_gen = create_image_generator(32)\n",
        "lenet = LeNet()\n",
        "lenet.compile(optimizer='sgd',\n",
        "              loss='categorical_crossentropy',\n",
        "              metrics=['accuracy'])\n",
        "lenet = train_or_load_model_early_stopping(lenet, train_gen, validate_gen, \"lenet\", 10)\n"
      ],
      "metadata": {
        "colab": {
          "base_uri": "https://localhost:8080/",
          "height": 1000
        },
        "id": "nC8EykCrM3cZ",
        "outputId": "e2d44a73-34c2-425a-fe8e-86592c1eb654"
      },
      "execution_count": 50,
      "outputs": [
        {
          "output_type": "stream",
          "name": "stdout",
          "text": [
            "Found 8000 images belonging to 10 classes.\n",
            "Found 1000 images belonging to 10 classes.\n",
            "Found 1000 images belonging to 10 classes.\n",
            "INFO:tensorflow:Assets written to: lenet/assets\n",
            "Epoch 1/10\n",
            "250/250 [==============================] - ETA: 0s - loss: 2.3107 - accuracy: 0.0755\n",
            "Epoch 1: saving model to lenet/cp.ckpt\n",
            "250/250 [==============================] - 66s 261ms/step - loss: 2.3107 - accuracy: 0.0755 - val_loss: 2.2948 - val_accuracy: 0.1050\n",
            "Epoch 2/10\n",
            "250/250 [==============================] - ETA: 0s - loss: 2.3008 - accuracy: 0.1014\n",
            "Epoch 2: saving model to lenet/cp.ckpt\n",
            "250/250 [==============================] - 69s 276ms/step - loss: 2.3008 - accuracy: 0.1014 - val_loss: 2.2821 - val_accuracy: 0.2060\n",
            "Epoch 3/10\n",
            "250/250 [==============================] - ETA: 0s - loss: 2.2880 - accuracy: 0.1311\n",
            "Epoch 3: saving model to lenet/cp.ckpt\n",
            "250/250 [==============================] - 59s 235ms/step - loss: 2.2880 - accuracy: 0.1311 - val_loss: 2.2545 - val_accuracy: 0.1970\n",
            "Epoch 4/10\n",
            "250/250 [==============================] - ETA: 0s - loss: 2.2608 - accuracy: 0.1499\n",
            "Epoch 4: saving model to lenet/cp.ckpt\n",
            "250/250 [==============================] - 56s 223ms/step - loss: 2.2608 - accuracy: 0.1499 - val_loss: 2.2142 - val_accuracy: 0.1760\n",
            "Epoch 5/10\n",
            "250/250 [==============================] - ETA: 0s - loss: 2.2123 - accuracy: 0.1758\n",
            "Epoch 5: saving model to lenet/cp.ckpt\n",
            "250/250 [==============================] - 56s 222ms/step - loss: 2.2123 - accuracy: 0.1758 - val_loss: 2.1455 - val_accuracy: 0.2160\n",
            "Epoch 6/10\n",
            "250/250 [==============================] - ETA: 0s - loss: 2.1620 - accuracy: 0.1863\n",
            "Epoch 6: saving model to lenet/cp.ckpt\n",
            "250/250 [==============================] - 58s 233ms/step - loss: 2.1620 - accuracy: 0.1863 - val_loss: 2.1603 - val_accuracy: 0.1900\n",
            "Epoch 7/10\n",
            "250/250 [==============================] - ETA: 0s - loss: 2.1339 - accuracy: 0.1985\n",
            "Epoch 7: saving model to lenet/cp.ckpt\n",
            "250/250 [==============================] - 55s 221ms/step - loss: 2.1339 - accuracy: 0.1985 - val_loss: 2.0798 - val_accuracy: 0.2240\n",
            "Epoch 8/10\n",
            "250/250 [==============================] - ETA: 0s - loss: 2.1034 - accuracy: 0.2132\n",
            "Epoch 8: saving model to lenet/cp.ckpt\n",
            "250/250 [==============================] - 57s 230ms/step - loss: 2.1034 - accuracy: 0.2132 - val_loss: 2.0278 - val_accuracy: 0.2670\n",
            "Epoch 9/10\n",
            "250/250 [==============================] - ETA: 0s - loss: 2.0798 - accuracy: 0.2231\n",
            "Epoch 9: saving model to lenet/cp.ckpt\n",
            "250/250 [==============================] - 57s 229ms/step - loss: 2.0798 - accuracy: 0.2231 - val_loss: 2.0721 - val_accuracy: 0.2320\n",
            "Epoch 10/10\n",
            "250/250 [==============================] - ETA: 0s - loss: 2.0732 - accuracy: 0.2246\n",
            "Epoch 10: saving model to lenet/cp.ckpt\n",
            "250/250 [==============================] - 55s 221ms/step - loss: 2.0732 - accuracy: 0.2246 - val_loss: 1.9832 - val_accuracy: 0.2670\n"
          ]
        },
        {
          "output_type": "display_data",
          "data": {
            "text/plain": [
              "<Figure size 432x288 with 1 Axes>"
            ],
            "image/png": "[encoded data removed]"
          },
          "metadata": {
            "needs_background": "light"
          }
        }
      ]
    },
    {
      "cell_type": "code",
      "source": [
        "for i in range(2):\n",
        "  lenet = train_or_load_model_early_stopping(lenet, train_gen, validate_gen, \"lenet\", 10)\n",
        "  save_model_to_drive(\"lenet\")"
      ],
      "metadata": {
        "colab": {
          "base_uri": "https://localhost:8080/"
        },
        "id": "VoiowwJQ53ah",
        "outputId": "45bbbc3c-d43d-4c77-a8ab-e2079dfe0d64"
      },
      "execution_count": null,
      "outputs": [
        {
          "output_type": "stream",
          "name": "stdout",
          "text": [
            "Epoch 1/10\n",
            "250/250 [==============================] - ETA: 0s - loss: 2.0537 - accuracy: 0.2340\n",
            "Epoch 1: saving model to lenet/cp.ckpt\n",
            "250/250 [==============================] - 50s 198ms/step - loss: 2.0537 - accuracy: 0.2340 - val_loss: 1.9974 - val_accuracy: 0.2610\n",
            "Epoch 2/10\n",
            "250/250 [==============================] - ETA: 0s - loss: 2.0401 - accuracy: 0.2432\n",
            "Epoch 2: saving model to lenet/cp.ckpt\n",
            "250/250 [==============================] - 45s 180ms/step - loss: 2.0401 - accuracy: 0.2432 - val_loss: 1.9634 - val_accuracy: 0.2690\n",
            "Epoch 3/10\n",
            "250/250 [==============================] - ETA: 0s - loss: 2.0279 - accuracy: 0.2464\n",
            "Epoch 3: saving model to lenet/cp.ckpt\n",
            "250/250 [==============================] - 49s 196ms/step - loss: 2.0279 - accuracy: 0.2464 - val_loss: 2.3488 - val_accuracy: 0.2080\n",
            "Epoch 4/10\n",
            "250/250 [==============================] - ETA: 0s - loss: 2.0129 - accuracy: 0.2498\n",
            "Epoch 4: saving model to lenet/cp.ckpt\n",
            "250/250 [==============================] - 52s 207ms/step - loss: 2.0129 - accuracy: 0.2498 - val_loss: 1.9798 - val_accuracy: 0.2770\n",
            "Epoch 5/10\n",
            "250/250 [==============================] - ETA: 0s - loss: 2.0081 - accuracy: 0.2580\n",
            "Epoch 5: saving model to lenet/cp.ckpt\n",
            "250/250 [==============================] - 49s 197ms/step - loss: 2.0081 - accuracy: 0.2580 - val_loss: 1.9464 - val_accuracy: 0.2810\n",
            "Epoch 6/10\n",
            "250/250 [==============================] - ETA: 0s - loss: 1.9865 - accuracy: 0.2704\n",
            "Epoch 6: saving model to lenet/cp.ckpt\n",
            "250/250 [==============================] - 50s 200ms/step - loss: 1.9865 - accuracy: 0.2704 - val_loss: 1.9199 - val_accuracy: 0.3100\n",
            "Epoch 7/10\n",
            "250/250 [==============================] - ETA: 0s - loss: 1.9775 - accuracy: 0.2713\n",
            "Epoch 7: saving model to lenet/cp.ckpt\n",
            "250/250 [==============================] - 53s 214ms/step - loss: 1.9775 - accuracy: 0.2713 - val_loss: 1.9238 - val_accuracy: 0.3000\n",
            "Epoch 8/10\n",
            "250/250 [==============================] - ETA: 0s - loss: 1.9792 - accuracy: 0.2772\n",
            "Epoch 8: saving model to lenet/cp.ckpt\n",
            "250/250 [==============================] - 51s 206ms/step - loss: 1.9792 - accuracy: 0.2772 - val_loss: 1.9106 - val_accuracy: 0.3130\n",
            "Epoch 9/10\n",
            "250/250 [==============================] - ETA: 0s - loss: 1.9671 - accuracy: 0.2824\n",
            "Epoch 9: saving model to lenet/cp.ckpt\n",
            "250/250 [==============================] - 58s 232ms/step - loss: 1.9671 - accuracy: 0.2824 - val_loss: 1.9049 - val_accuracy: 0.2950\n",
            "Epoch 10/10\n",
            "250/250 [==============================] - ETA: 0s - loss: 1.9506 - accuracy: 0.2884\n",
            "Epoch 10: saving model to lenet/cp.ckpt\n",
            "250/250 [==============================] - 52s 210ms/step - loss: 1.9506 - accuracy: 0.2884 - val_loss: 1.9049 - val_accuracy: 0.2980\n"
          ]
        }
      ]
    },
    {
      "cell_type": "code",
      "source": [
        "predict_and_assess_model(lenet, test_gen)"
      ],
      "metadata": {
        "colab": {
          "base_uri": "https://localhost:8080/",
          "height": 1000
        },
        "id": "mpmOQdkxiYus",
        "outputId": "7c087a82-44d9-4b27-d4dc-b0260b7e7371"
      },
      "execution_count": 52,
      "outputs": [
        {
          "output_type": "stream",
          "name": "stdout",
          "text": [
            "Classification Report: \n",
            "               precision    recall  f1-score   support\n",
            "\n",
            "           0       0.19      0.15      0.17       100\n",
            "           1       0.11      0.01      0.02       100\n",
            "           2       0.11      0.04      0.06       100\n",
            "           3       0.16      0.42      0.23       100\n",
            "           4       0.25      0.13      0.17       100\n",
            "           5       0.33      0.01      0.02       100\n",
            "           6       0.23      0.68      0.34       100\n",
            "           7       0.51      0.87      0.64       100\n",
            "           8       0.34      0.29      0.31       100\n",
            "           9       0.11      0.01      0.02       100\n",
            "\n",
            "    accuracy                           0.26      1000\n",
            "   macro avg       0.24      0.26      0.20      1000\n",
            "weighted avg       0.24      0.26      0.20      1000\n",
            "\n"
          ]
        },
        {
          "output_type": "display_data",
          "data": {
            "text/plain": [
              "<Figure size 1080x1080 with 2 Axes>"
            ],
            "image/png": "[encoded data removed]"
          },
          "metadata": {
            "needs_background": "light"
          }
        }
      ]
    },
    {
      "cell_type": "code",
      "source": [
        "def AlexNet():\n",
        "  model = Sequential([\n",
        "    # CNN\n",
        "    layers.Conv2D(filters=96, kernel_size=(11,11), strides=(4,4), activation='relu', input_shape=(227,227,3)),\n",
        "    layers.BatchNormalization(),\n",
        "    layers.MaxPool2D(pool_size=(3,3), strides=(2,2)),\n",
        "    layers.Conv2D(filters=256, kernel_size=(5,5), strides=(1,1), activation='relu', padding=\"same\"),\n",
        "    layers.BatchNormalization(),\n",
        "    layers.MaxPool2D(pool_size=(3,3), strides=(2,2)),\n",
        "    layers.Conv2D(filters=384, kernel_size=(3,3), strides=(1,1), activation='relu', padding=\"same\"),\n",
        "    layers.BatchNormalization(),\n",
        "    layers.Conv2D(filters=384, kernel_size=(3,3), strides=(1,1), activation='relu', padding=\"same\"),\n",
        "    layers.BatchNormalization(),\n",
        "    layers.Conv2D(filters=256, kernel_size=(3,3), strides=(1,1), activation='relu', padding=\"same\"),\n",
        "    layers.BatchNormalization(),\n",
        "    layers.MaxPool2D(pool_size=(3,3), strides=(2,2)),\n",
        "    layers.Flatten(),\n",
        "\n",
        "    # Dense\n",
        "    layers.Dense(4096, activation='relu'),\n",
        "    layers.Dropout(0.5),\n",
        "    layers.Dense(4096, activation='relu'),\n",
        "    layers.Dropout(0.5),\n",
        "    layers.Dense(10, activation='softmax')\n",
        "  ])\n",
        "  return model\n",
        "\n"
      ],
      "metadata": {
        "id": "AfwUQV_h0BvP"
      },
      "execution_count": 29,
      "outputs": []
    },
    {
      "cell_type": "code",
      "source": [
        "train_gen, test_gen, validate_gen = create_image_generator(227)\n",
        "alexnet = AlexNet()\n",
        "alexnet.compile(optimizer='sgd',\n",
        "              loss='categorical_crossentropy',\n",
        "              metrics=['accuracy'])\n",
        "alexnet = train_or_load_model_early_stopping(alexnet, train_gen, validate_gen, \"alexnet\", 10)\n",
        "\n"
      ],
      "metadata": {
        "colab": {
          "base_uri": "https://localhost:8080/",
          "height": 1000
        },
        "id": "RujSn4LWzXYd",
        "outputId": "f63a7ee6-3f7e-49a0-b9b3-14add04ea8c2"
      },
      "execution_count": 118,
      "outputs": [
        {
          "output_type": "stream",
          "name": "stdout",
          "text": [
            "INFO:tensorflow:Assets written to: alexnet/assets\n",
            "Epoch 1/10\n",
            "250/250 [==============================] - ETA: 0s - loss: 5.5942 - accuracy: 0.1051\n",
            "Epoch 1: saving model to alexnet/cp.ckpt\n",
            "250/250 [==============================] - 64s 246ms/step - loss: 5.5942 - accuracy: 0.1051 - val_loss: 2.3397 - val_accuracy: 0.1050\n",
            "Epoch 2/10\n",
            "250/250 [==============================] - ETA: 0s - loss: 2.4057 - accuracy: 0.1123\n",
            "Epoch 2: saving model to alexnet/cp.ckpt\n",
            "250/250 [==============================] - 63s 253ms/step - loss: 2.4057 - accuracy: 0.1123 - val_loss: 2.2831 - val_accuracy: 0.1510\n",
            "Epoch 3/10\n",
            "250/250 [==============================] - ETA: 0s - loss: 2.3527 - accuracy: 0.1240\n",
            "Epoch 3: saving model to alexnet/cp.ckpt\n",
            "250/250 [==============================] - 69s 274ms/step - loss: 2.3527 - accuracy: 0.1240 - val_loss: 2.2933 - val_accuracy: 0.1460\n",
            "Epoch 4/10\n",
            "250/250 [==============================] - ETA: 0s - loss: 2.4028 - accuracy: 0.1250\n",
            "Epoch 4: saving model to alexnet/cp.ckpt\n",
            "250/250 [==============================] - 66s 264ms/step - loss: 2.4028 - accuracy: 0.1250 - val_loss: 2.2899 - val_accuracy: 0.1330\n",
            "Epoch 5/10\n",
            "250/250 [==============================] - ETA: 0s - loss: 2.3430 - accuracy: 0.1316\n",
            "Epoch 5: saving model to alexnet/cp.ckpt\n",
            "250/250 [==============================] - 63s 254ms/step - loss: 2.3430 - accuracy: 0.1316 - val_loss: 2.2615 - val_accuracy: 0.1710\n",
            "Epoch 6/10\n",
            "250/250 [==============================] - ETA: 0s - loss: 2.3386 - accuracy: 0.1530\n",
            "Epoch 6: saving model to alexnet/cp.ckpt\n",
            "250/250 [==============================] - 62s 247ms/step - loss: 2.3386 - accuracy: 0.1530 - val_loss: 2.3307 - val_accuracy: 0.1330\n",
            "Epoch 7/10\n",
            "250/250 [==============================] - ETA: 0s - loss: 2.3403 - accuracy: 0.1359\n",
            "Epoch 7: saving model to alexnet/cp.ckpt\n",
            "250/250 [==============================] - 66s 264ms/step - loss: 2.3403 - accuracy: 0.1359 - val_loss: 2.2971 - val_accuracy: 0.0910\n",
            "Epoch 8/10\n",
            "250/250 [==============================] - ETA: 0s - loss: 2.3381 - accuracy: 0.1401\n",
            "Epoch 8: saving model to alexnet/cp.ckpt\n",
            "250/250 [==============================] - 63s 252ms/step - loss: 2.3381 - accuracy: 0.1401 - val_loss: 2.2981 - val_accuracy: 0.1050\n",
            "Epoch 9/10\n",
            "250/250 [==============================] - ETA: 0s - loss: 2.3283 - accuracy: 0.1606\n",
            "Epoch 9: saving model to alexnet/cp.ckpt\n",
            "250/250 [==============================] - 64s 256ms/step - loss: 2.3283 - accuracy: 0.1606 - val_loss: 2.2942 - val_accuracy: 0.1260\n",
            "Epoch 10/10\n",
            "250/250 [==============================] - ETA: 0s - loss: 2.3111 - accuracy: 0.1412\n",
            "Epoch 10: saving model to alexnet/cp.ckpt\n",
            "250/250 [==============================] - 62s 250ms/step - loss: 2.3111 - accuracy: 0.1412 - val_loss: 2.2662 - val_accuracy: 0.1520\n"
          ]
        },
        {
          "output_type": "display_data",
          "data": {
            "text/plain": [
              "<Figure size 432x288 with 1 Axes>"
            ],
            "image/png": "[encoded data removed]"
          },
          "metadata": {
            "needs_background": "light"
          }
        }
      ]
    },
    {
      "cell_type": "code",
      "source": [
        "save_model_to_drive(\"alexnet\")"
      ],
      "metadata": {
        "id": "ogp30X7Q26CI"
      },
      "execution_count": null,
      "outputs": []
    },
    {
      "cell_type": "code",
      "source": [
        "predict_and_assess_model(alexnet, test_gen)"
      ],
      "metadata": {
        "colab": {
          "base_uri": "https://localhost:8080/",
          "height": 1000
        },
        "id": "1AWfyfcs19xq",
        "outputId": "563b901b-97a4-4074-860d-4ac1aba17fae"
      },
      "execution_count": 126,
      "outputs": [
        {
          "output_type": "stream",
          "name": "stderr",
          "text": [
            "/usr/local/lib/python3.7/dist-packages/sklearn/metrics/_classification.py:1318: UndefinedMetricWarning: Precision and F-score are ill-defined and being set to 0.0 in labels with no predicted samples. Use `zero_division` parameter to control this behavior.\n",
            "  _warn_prf(average, modifier, msg_start, len(result))\n",
            "/usr/local/lib/python3.7/dist-packages/sklearn/metrics/_classification.py:1318: UndefinedMetricWarning: Precision and F-score are ill-defined and being set to 0.0 in labels with no predicted samples. Use `zero_division` parameter to control this behavior.\n",
            "  _warn_prf(average, modifier, msg_start, len(result))\n",
            "/usr/local/lib/python3.7/dist-packages/sklearn/metrics/_classification.py:1318: UndefinedMetricWarning: Precision and F-score are ill-defined and being set to 0.0 in labels with no predicted samples. Use `zero_division` parameter to control this behavior.\n",
            "  _warn_prf(average, modifier, msg_start, len(result))\n"
          ]
        },
        {
          "output_type": "stream",
          "name": "stdout",
          "text": [
            "Classification Report: \n",
            "               precision    recall  f1-score   support\n",
            "\n",
            "           0       0.12      0.95      0.21       100\n",
            "           1       0.00      0.00      0.00       100\n",
            "           2       0.00      0.00      0.00       100\n",
            "           3       0.00      0.00      0.00       100\n",
            "           4       0.02      0.01      0.01       100\n",
            "           5       0.09      0.13      0.11       100\n",
            "           6       0.00      0.00      0.00       100\n",
            "           7       0.00      0.00      0.00       100\n",
            "           8       0.00      0.00      0.00       100\n",
            "           9       0.00      0.00      0.00       100\n",
            "\n",
            "    accuracy                           0.11      1000\n",
            "   macro avg       0.02      0.11      0.03      1000\n",
            "weighted avg       0.02      0.11      0.03      1000\n",
            "\n"
          ]
        },
        {
          "output_type": "display_data",
          "data": {
            "text/plain": [
              "<Figure size 1080x1080 with 2 Axes>"
            ],
            "image/png": "[encoded data removed]"
          },
          "metadata": {
            "needs_background": "light"
          }
        }
      ]
    },
    {
      "cell_type": "code",
      "source": [
        "\n",
        "def Inception_block(input_layer, f1, f2_conv1, f2_conv3, f3_conv1, f3_conv5, f4): \n",
        "  # Input: \n",
        "  # - f1: number of filters of the 1x1 convolutional layer in the first path\n",
        "  # - f2_conv1, f2_conv3 are number of filters corresponding to the 1x1 and 3x3 convolutional layers in the second path\n",
        "  # - f3_conv1, f3_conv5 are the number of filters corresponding to the 1x1 and 5x5  convolutional layer in the third path\n",
        "  # - f4: number of filters of the 1x1 convolutional layer in the fourth path\n",
        "\n",
        "  # 1st path:\n",
        "  path1 = layers.Conv2D(filters=f1, kernel_size = (1,1), padding = 'same', activation = 'relu')(input_layer)\n",
        "\n",
        "  # 2nd path\n",
        "  path2 = layers.Conv2D(filters = f2_conv1, kernel_size = (1,1), padding = 'same', activation = 'relu')(input_layer)\n",
        "  path2 = layers.Conv2D(filters = f2_conv3, kernel_size = (3,3), padding = 'same', activation = 'relu')(path2)\n",
        "\n",
        "  # 3rd path\n",
        "  path3 = layers.Conv2D(filters = f3_conv1, kernel_size = (1,1), padding = 'same', activation = 'relu')(input_layer)\n",
        "  path3 = layers.Conv2D(filters = f3_conv5, kernel_size = (5,5), padding = 'same', activation = 'relu')(path3)\n",
        "\n",
        "  # 4th path\n",
        "  path4 = layers.MaxPooling2D((3,3), strides= (1,1), padding = 'same')(input_layer)\n",
        "  path4 = layers.Conv2D(filters = f4, kernel_size = (1,1), padding = 'same', activation = 'relu')(path4)\n",
        "\n",
        "  output_layer = layers.concatenate([path1, path2, path3, path4], axis = -1)\n",
        "\n",
        "  return output_layer\n",
        "\n",
        "\n",
        "def GoogLeNet():\n",
        "  # input layer \n",
        "  input_layer = layers.Input(shape = (224, 224, 3))\n",
        "\n",
        "  # convolutional layer: filters = 64, kernel_size = (7,7), strides = 2\n",
        "  X = layers.Conv2D(filters = 64, kernel_size = (7,7), strides = 2, padding = 'valid', activation = 'relu')(input_layer)\n",
        "\n",
        "  # max-pooling layer: pool_size = (3,3), strides = 2\n",
        "  X = layers.MaxPooling2D(pool_size = (3,3), strides = 2)(X)\n",
        "\n",
        "  # convolutional layer: filters = 64, strides = 1\n",
        "  X = layers.Conv2D(filters = 64, kernel_size = (1,1), strides = 1, padding = 'same', activation = 'relu')(X)\n",
        "\n",
        "  # convolutional layer: filters = 192, kernel_size = (3,3)\n",
        "  X = layers.Conv2D(filters = 192, kernel_size = (3,3), padding = 'same', activation = 'relu')(X)\n",
        "\n",
        "  # max-pooling layer: pool_size = (3,3), strides = 2\n",
        "  X = layers.MaxPooling2D(pool_size= (3,3), strides = 2)(X)\n",
        "\n",
        "  # 1st Inception block\n",
        "  X = Inception_block(X, f1 = 64, f2_conv1 = 96, f2_conv3 = 128, f3_conv1 = 16, f3_conv5 = 32, f4 = 32)\n",
        "\n",
        "  # 2nd Inception block\n",
        "  X = Inception_block(X, f1 = 128, f2_conv1 = 128, f2_conv3 = 192, f3_conv1 = 32, f3_conv5 = 96, f4 = 64)\n",
        "\n",
        "  # max-pooling layer: pool_size = (3,3), strides = 2\n",
        "  X = layers.MaxPooling2D(pool_size= (3,3), strides = 2)(X)\n",
        "\n",
        "  # 3rd Inception block\n",
        "  X = Inception_block(X, f1 = 192, f2_conv1 = 96, f2_conv3 = 208, f3_conv1 = 16, f3_conv5 = 48, f4 = 64)\n",
        "\n",
        "  # Extra network 1:\n",
        "  X1 = layers.AveragePooling2D(pool_size = (5,5), strides = 3)(X)\n",
        "  X1 = layers.Conv2D(filters = 128, kernel_size = (1,1), padding = 'same', activation = 'relu')(X1)\n",
        "  X1 = layers.Flatten()(X1)\n",
        "  X1 = layers.Dense(1024, activation = 'relu')(X1)\n",
        "  X1 = layers.Dropout(0.7)(X1)\n",
        "  X1 = layers.Dense(10, activation = 'softmax')(X1)\n",
        "\n",
        "  \n",
        "  # 4th Inception block\n",
        "  X = Inception_block(X, f1 = 160, f2_conv1 = 112, f2_conv3 = 224, f3_conv1 = 24, f3_conv5 = 64, f4 = 64)\n",
        "\n",
        "  # 5th Inception block\n",
        "  X = Inception_block(X, f1 = 128, f2_conv1 = 128, f2_conv3 = 256, f3_conv1 = 24, f3_conv5 = 64, f4 = 64)\n",
        "\n",
        "  # 6th Inception block\n",
        "  X = Inception_block(X, f1 = 112, f2_conv1 = 144, f2_conv3 = 288, f3_conv1 = 32, f3_conv5 = 64, f4 = 64)\n",
        "\n",
        "  # Extra network 2:\n",
        "  X2 = layers.AveragePooling2D(pool_size = (5,5), strides = 3)(X)\n",
        "  X2 = layers.Conv2D(filters = 128, kernel_size = (1,1), padding = 'same', activation = 'relu')(X2)\n",
        "  X2 = layers.Flatten()(X2)\n",
        "  X2 = layers.Dense(1024, activation = 'relu')(X2)\n",
        "  X2 = layers.Dropout(0.7)(X2)\n",
        "  X2 = layers.Dense(10, activation = 'softmax')(X2)\n",
        "  \n",
        "  \n",
        "  # 7th Inception block\n",
        "  X = Inception_block(X, f1 = 256, f2_conv1 = 160, f2_conv3 = 320, f3_conv1 = 32, \n",
        "                      f3_conv5 = 128, f4 = 128)\n",
        "\n",
        "  # max-pooling layer: pool_size = (3,3), strides = 2\n",
        "  X = layers.MaxPooling2D(pool_size = (3,3), strides = 2)(X)\n",
        "\n",
        "  # 8th Inception block\n",
        "  X = Inception_block(X, f1 = 256, f2_conv1 = 160, f2_conv3 = 320, f3_conv1 = 32, f3_conv5 = 128, f4 = 128)\n",
        "\n",
        "  # 9th Inception block\n",
        "  X = Inception_block(X, f1 = 384, f2_conv1 = 192, f2_conv3 = 384, f3_conv1 = 48, f3_conv5 = 128, f4 = 128)\n",
        "\n",
        "  # Global Average pooling layer \n",
        "  X = layers.GlobalAveragePooling2D(name = 'GAPL')(X)\n",
        "\n",
        "  # Dropoutlayer \n",
        "  X = layers.Dropout(0.4)(X)\n",
        "\n",
        "  # output layer \n",
        "  X = layers.Dense(10, activation = 'softmax')(X)\n",
        "  \n",
        "  # model\n",
        "  model = tf.keras.Model(input_layer, [X, X1, X2], name = 'GoogLeNet')\n",
        "\n",
        "  return model"
      ],
      "metadata": {
        "id": "f7aOXmXpAVxI"
      },
      "execution_count": 133,
      "outputs": []
    },
    {
      "cell_type": "code",
      "source": [
        "train_gen, test_gen, validate_gen = create_image_generator(224)\n",
        "googlenet = GoogLeNet()\n",
        "googlenet.compile(optimizer='sgd',\n",
        "              loss='categorical_crossentropy',\n",
        "              metrics=['accuracy'])\n",
        "for i in range(50):\n",
        "  googlenet = train_or_load_model_early_stopping(googlenet, train_gen, validate_gen, \"googlenet\", 3)\n",
        "  save_model_to_drive(\"googlenet\")"
      ],
      "metadata": {
        "id": "0OUvu4tgCY2J"
      },
      "execution_count": null,
      "outputs": []
    },
    {
      "cell_type": "code",
      "source": [
        "predict_and_assess_model(googlenet, test_gen)"
      ],
      "metadata": {
        "id": "uCYQKrTFC7f3"
      },
      "execution_count": null,
      "outputs": []
    }
  ],
  "metadata": {
    "accelerator": "GPU",
    "colab": {
      "collapsed_sections": [],
      "name": "FoodHockyExplore.ipynb",
      "provenance": [],
      "mount_file_id": "1zWWz2rZZmK4nkUGZf8pimJGyPi4NlXf0",
      "authorship_tag": "ABX9TyPHdkyc0LVYPGv8LrZUU/8B",
      "include_colab_link": true
    },
    "kernelspec": {
      "display_name": "Python 3",
      "name": "python3"
    },
    "language_info": {
      "name": "python"
    }
  },
  "nbformat": 4,
  "nbformat_minor": 0
}